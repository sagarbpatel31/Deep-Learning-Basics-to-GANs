{
 "cells": [
  {
   "cell_type": "markdown",
   "metadata": {
    "id": "7TJ4j4SmqijT"
   },
   "source": [
    "# Mathematical Pointwise PyTorch Operations\n",
    "\n",
    "An short introduction about PyTorch and about the chosen functions.\n",
    "\n",
    "PyTorch is an open source machine learning library used for computer vision and natural language processing.\n",
    "\n",
    "Pointwise Operations work with single value calculations. Following are the five functions:\n",
    "\n",
    "- acos\n",
    "- add\n",
    "- ceil\n",
    "- floor\n",
    "- mul\n",
    "\n",
    "Before we begin, let's install and import PyTorch"
   ]
  },
  {
   "cell_type": "code",
   "execution_count": 18,
   "metadata": {
    "executionInfo": {
     "elapsed": 3753,
     "status": "ok",
     "timestamp": 1606196238841,
     "user": {
      "displayName": "sagar patel",
      "photoUrl": "",
      "userId": "07488108728169186006"
     },
     "user_tz": -330
    },
    "id": "OeGnQ9MrqijT"
   },
   "outputs": [],
   "source": [
    "# Uncomment and run the appropriate command for your operating system, if required\n",
    "\n",
    "# Linux / Binder\n",
    "# !pip install numpy torch==1.7.0+cpu torchvision==0.8.1+cpu torchaudio==0.7.0 -f https://download.pytorch.org/whl/torch_stable.html\n",
    "\n",
    "# Windows\n",
    "# !pip install numpy torch==1.7.0+cpu torchvision==0.8.1+cpu torchaudio==0.7.0 -f https://download.pytorch.org/whl/torch_stable.html\n",
    "\n",
    "# MacOS\n",
    "# !pip install numpy torch torchvision torchaudio"
   ]
  },
  {
   "cell_type": "code",
   "execution_count": 19,
   "metadata": {
    "executionInfo": {
     "elapsed": 4222,
     "status": "ok",
     "timestamp": 1606196239858,
     "user": {
      "displayName": "sagar patel",
      "photoUrl": "",
      "userId": "07488108728169186006"
     },
     "user_tz": -330
    },
    "id": "p6D-MBcQqijT"
   },
   "outputs": [],
   "source": [
    "# Import torch and other required modules\n",
    "import torch"
   ]
  },
  {
   "cell_type": "markdown",
   "metadata": {
    "id": "09-3ef8gqijT"
   },
   "source": [
    "## Function 1 - torch.acos \n",
    "\n",
    "Computes the inverser cosine of each element of the input."
   ]
  },
  {
   "cell_type": "code",
   "execution_count": 20,
   "metadata": {
    "colab": {
     "base_uri": "https://localhost:8080/"
    },
    "executionInfo": {
     "elapsed": 2681,
     "status": "ok",
     "timestamp": 1606196239871,
     "user": {
      "displayName": "sagar patel",
      "photoUrl": "",
      "userId": "07488108728169186006"
     },
     "user_tz": -330
    },
    "id": "IubItpq_qijU",
    "outputId": "a22df133-e1bb-4ed9-970e-731f55758d77"
   },
   "outputs": [
    {
     "name": "stdout",
     "output_type": "stream",
     "text": [
      "tensor([0.4116, 0.2181, 0.7697, 0.6162])\n",
      "tensor([1.1465, 1.3510, 0.6924, 0.9069])\n"
     ]
    }
   ],
   "source": [
    "# Example 1 - working \n",
    "t=torch.rand(4)\n",
    "print(t)\n",
    "final=torch.acos(t)\n",
    "print(final)"
   ]
  },
  {
   "cell_type": "markdown",
   "metadata": {
    "id": "3Kt6aCCvqiji"
   },
   "source": [
    "torch.rand(n) generates the n random numbers of the range between 0 to 1.\n",
    "The result is stored in t variable.\n",
    "\n",
    "torch.acos(t) is applied for inverse cosine of the random numbers generated and the result is stored in final variable."
   ]
  },
  {
   "cell_type": "code",
   "execution_count": 21,
   "metadata": {
    "colab": {
     "base_uri": "https://localhost:8080/"
    },
    "executionInfo": {
     "elapsed": 3752,
     "status": "ok",
     "timestamp": 1606196243417,
     "user": {
      "displayName": "sagar patel",
      "photoUrl": "",
      "userId": "07488108728169186006"
     },
     "user_tz": -330
    },
    "id": "ONl6gw00qijj",
    "outputId": "ffca2e1e-97c9-45e7-adde-ed923e808eef"
   },
   "outputs": [
    {
     "name": "stdout",
     "output_type": "stream",
     "text": [
      "tensor([-0.3133, -0.2220])\n",
      "tensor([1.8895, 1.7947])\n"
     ]
    }
   ],
   "source": [
    "# Example 2 - working\n",
    "t=torch.tensor([-0.3133,-0.222])\n",
    "print(t)\n",
    "final=torch.acos(t)\n",
    "print(final)"
   ]
  },
  {
   "cell_type": "markdown",
   "metadata": {
    "id": "DKj0sYKaqijj"
   },
   "source": [
    "torch.tensor() has 2 values to be processed for inverse cosine which is stored in t variable.\n",
    "Finally, final variable stores the result of torch.acos(t)."
   ]
  },
  {
   "cell_type": "code",
   "execution_count": 22,
   "metadata": {
    "colab": {
     "base_uri": "https://localhost:8080/",
     "height": 231
    },
    "executionInfo": {
     "elapsed": 2067,
     "status": "error",
     "timestamp": 1606196244691,
     "user": {
      "displayName": "sagar patel",
      "photoUrl": "",
      "userId": "07488108728169186006"
     },
     "user_tz": -330
    },
    "id": "Q-StffXFqijj",
    "outputId": "234dac16-3977-4b01-fe43-f7bc0b543148"
   },
   "outputs": [
    {
     "ename": "TypeError",
     "evalue": "ignored",
     "output_type": "error",
     "traceback": [
      "\u001b[0;31m---------------------------------------------------------------------------\u001b[0m",
      "\u001b[0;31mTypeError\u001b[0m                                 Traceback (most recent call last)",
      "\u001b[0;32m<ipython-input-22-99da9ea7bfba>\u001b[0m in \u001b[0;36m<module>\u001b[0;34m()\u001b[0m\n\u001b[1;32m      1\u001b[0m \u001b[0;31m# Example 3 - breaking (to illustrate when it breaks)\u001b[0m\u001b[0;34m\u001b[0m\u001b[0;34m\u001b[0m\u001b[0;34m\u001b[0m\u001b[0m\n\u001b[0;32m----> 2\u001b[0;31m \u001b[0mt\u001b[0m\u001b[0;34m=\u001b[0m\u001b[0mtorch\u001b[0m\u001b[0;34m.\u001b[0m\u001b[0mtensor\u001b[0m\u001b[0;34m(\u001b[0m\u001b[0;34m[\u001b[0m\u001b[0;36m5\u001b[0m\u001b[0;34m,\u001b[0m\u001b[0;34m-\u001b[0m\u001b[0;36m6.2\u001b[0m\u001b[0;34m]\u001b[0m\u001b[0;34m,\u001b[0m\u001b[0;34m[\u001b[0m\u001b[0;36m2.\u001b[0m\u001b[0;34m]\u001b[0m\u001b[0;34m)\u001b[0m\u001b[0;34m\u001b[0m\u001b[0;34m\u001b[0m\u001b[0m\n\u001b[0m\u001b[1;32m      3\u001b[0m \u001b[0mprint\u001b[0m\u001b[0;34m(\u001b[0m\u001b[0mt\u001b[0m\u001b[0;34m)\u001b[0m\u001b[0;34m\u001b[0m\u001b[0;34m\u001b[0m\u001b[0m\n\u001b[1;32m      4\u001b[0m \u001b[0mfinal\u001b[0m\u001b[0;34m=\u001b[0m\u001b[0mtorch\u001b[0m\u001b[0;34m.\u001b[0m\u001b[0macos\u001b[0m\u001b[0;34m(\u001b[0m\u001b[0mt\u001b[0m\u001b[0;34m)\u001b[0m\u001b[0;34m\u001b[0m\u001b[0;34m\u001b[0m\u001b[0m\n\u001b[1;32m      5\u001b[0m \u001b[0mprint\u001b[0m\u001b[0;34m(\u001b[0m\u001b[0mfinal\u001b[0m\u001b[0;34m)\u001b[0m\u001b[0;34m\u001b[0m\u001b[0;34m\u001b[0m\u001b[0m\n",
      "\u001b[0;31mTypeError\u001b[0m: tensor() takes 1 positional argument but 2 were given"
     ]
    }
   ],
   "source": [
    "# Example 3 - breaking (to illustrate when it breaks)\n",
    "t=torch.tensor([5,-6.2],[2.])\n",
    "print(t)\n",
    "final=torch.acos(t)\n",
    "print(final)"
   ]
  },
  {
   "cell_type": "markdown",
   "metadata": {
    "id": "3hghxntZqijk"
   },
   "source": [
    "torch.tensor() must have the identical shape of values.\n",
    "Here, in the first row, there are 2 elements, but in the second row only one element is present, so TypeError is thrown with 1 positional argument.\n",
    "\n",
    "It must be something like: torch.tensor([[5,-6.2],[2.,3]])."
   ]
  },
  {
   "cell_type": "markdown",
   "metadata": {
    "id": "hO6ERia9qijk"
   },
   "source": [
    "torch.acos() function can be used when there is a need of inverse cosine in trignometric operations."
   ]
  },
  {
   "cell_type": "markdown",
   "metadata": {
    "id": "mI6eyF-uqijk"
   },
   "source": [
    "Let's save our work using Jovian before continuing."
   ]
  },
  {
   "cell_type": "code",
   "execution_count": 23,
   "metadata": {
    "executionInfo": {
     "elapsed": 4920,
     "status": "ok",
     "timestamp": 1606196293242,
     "user": {
      "displayName": "sagar patel",
      "photoUrl": "",
      "userId": "07488108728169186006"
     },
     "user_tz": -330
    },
    "id": "c9SaaSrsqijk"
   },
   "outputs": [],
   "source": [
    "!pip install jovian --upgrade --quiet"
   ]
  },
  {
   "cell_type": "code",
   "execution_count": 24,
   "metadata": {
    "executionInfo": {
     "elapsed": 2255,
     "status": "ok",
     "timestamp": 1606196301012,
     "user": {
      "displayName": "sagar patel",
      "photoUrl": "",
      "userId": "07488108728169186006"
     },
     "user_tz": -330
    },
    "id": "H5EPl0d5qijk"
   },
   "outputs": [],
   "source": [
    "import jovian"
   ]
  },
  {
   "cell_type": "code",
   "execution_count": 25,
   "metadata": {
    "colab": {
     "base_uri": "https://localhost:8080/",
     "height": 137
    },
    "executionInfo": {
     "elapsed": 34872,
     "status": "ok",
     "timestamp": 1606196336653,
     "user": {
      "displayName": "sagar patel",
      "photoUrl": "",
      "userId": "07488108728169186006"
     },
     "user_tz": -330
    },
    "id": "IznmVqsSqijl",
    "outputId": "a42fb83e-a4a9-47b2-e489-ba46c766c139"
   },
   "outputs": [
    {
     "name": "stdout",
     "output_type": "stream",
     "text": [
      "[jovian] Detected Colab notebook...\u001b[0m\n",
      "[jovian] Please enter your API key ( from https://jovian.ai/ ):\u001b[0m\n",
      "API KEY: ··········\n",
      "[jovian] Uploading colab notebook to Jovian...\u001b[0m\n",
      "[jovian] Capturing environment..\u001b[0m\n",
      "[jovian] Committed successfully! https://jovian.ai/sagarp3199/01-tensor-operations\u001b[0m\n"
     ]
    },
    {
     "data": {
      "application/vnd.google.colaboratory.intrinsic+json": {
       "type": "string"
      },
      "text/plain": [
       "'https://jovian.ai/sagarp3199/01-tensor-operations'"
      ]
     },
     "execution_count": 25,
     "metadata": {
      "tags": []
     },
     "output_type": "execute_result"
    }
   ],
   "source": [
    "jovian.commit(project='01-tensor-operations')"
   ]
  },
  {
   "cell_type": "markdown",
   "metadata": {
    "id": "X_dS9XNKqijl"
   },
   "source": [
    "## Function 2 - torch.add\n",
    "\n",
    "Adds the scalar value to the input resulting in new tensor."
   ]
  },
  {
   "cell_type": "code",
   "execution_count": 27,
   "metadata": {
    "colab": {
     "base_uri": "https://localhost:8080/"
    },
    "executionInfo": {
     "elapsed": 1793,
     "status": "ok",
     "timestamp": 1606196516545,
     "user": {
      "displayName": "sagar patel",
      "photoUrl": "",
      "userId": "07488108728169186006"
     },
     "user_tz": -330
    },
    "id": "gc2Y_4Ozqijm",
    "outputId": "5eaa0c1c-77d4-4a98-99f0-654b43b3586f"
   },
   "outputs": [
    {
     "name": "stdout",
     "output_type": "stream",
     "text": [
      "tensor([0.1586, 0.6890, 0.4911, 0.8014, 0.8743])\n",
      "tensor([40.1586, 40.6890, 40.4911, 40.8014, 40.8743])\n"
     ]
    }
   ],
   "source": [
    "# Example 1 - working\n",
    "a=torch.rand(5)\n",
    "print(a)\n",
    "final=torch.add(a,40)\n",
    "print(final)"
   ]
  },
  {
   "cell_type": "markdown",
   "metadata": {
    "id": "1syoFDhPqijn"
   },
   "source": [
    "torch.rand(n) generates the n random numbers of the range between 0 to 1.\n",
    "The result is stored in a variable.\n",
    "\n",
    "torch.add(a,40) adds 40 value to each element of tensor a resulting in final tensor variable."
   ]
  },
  {
   "cell_type": "code",
   "execution_count": 30,
   "metadata": {
    "colab": {
     "base_uri": "https://localhost:8080/"
    },
    "executionInfo": {
     "elapsed": 1580,
     "status": "ok",
     "timestamp": 1606196874143,
     "user": {
      "displayName": "sagar patel",
      "photoUrl": "",
      "userId": "07488108728169186006"
     },
     "user_tz": -330
    },
    "id": "iqXxk-cWqijn",
    "outputId": "d3ce9a6f-1059-41ff-dede-8237c6f4b0c0"
   },
   "outputs": [
    {
     "name": "stdout",
     "output_type": "stream",
     "text": [
      "tensor([-0.4378, -1.4105, -0.3065, -1.0976,  0.5638])\n",
      "tensor([[-0.1570],\n",
      "        [-0.0868],\n",
      "        [ 2.1155],\n",
      "        [ 0.4016],\n",
      "        [-0.7831]])\n",
      "tensor([[-2.0079, -2.9806, -1.8767, -2.6677, -1.0063],\n",
      "        [-1.3056, -2.2783, -1.1743, -1.9654, -0.3040],\n",
      "        [20.7177, 19.7449, 20.8489, 20.0578, 21.7192],\n",
      "        [ 3.5779,  2.6052,  3.7091,  2.9181,  4.5794],\n",
      "        [-8.2691, -9.2419, -8.1379, -8.9290, -7.2676]])\n"
     ]
    }
   ],
   "source": [
    "# Example 2 - working\n",
    "a=torch.randn(5)\n",
    "print(a)\n",
    "b=torch.randn(5,1)\n",
    "print(b)\n",
    "final=torch.add(a,b,alpha=10)\n",
    "print(final)"
   ]
  },
  {
   "cell_type": "markdown",
   "metadata": {
    "id": "yEjl6VQaqijn"
   },
   "source": [
    "Two tensors 'a' and 'b' are created using torch.randn() function.\n",
    "'a' is 1x5 matrix and 'b' is 5x1 matrix\n",
    "\n",
    "torch.add(a,b,alpha=n) results in a + b*n\n",
    "Here, alpha is 10 and it is added to the random values in b and then result is added to a vector. The final solution is stored in final tensor variable."
   ]
  },
  {
   "cell_type": "code",
   "execution_count": 38,
   "metadata": {
    "colab": {
     "base_uri": "https://localhost:8080/",
     "height": 265
    },
    "executionInfo": {
     "elapsed": 1286,
     "status": "error",
     "timestamp": 1606197177633,
     "user": {
      "displayName": "sagar patel",
      "photoUrl": "",
      "userId": "07488108728169186006"
     },
     "user_tz": -330
    },
    "id": "4QVqKBjTqijo",
    "outputId": "3b5a2af0-da6d-402e-f3f2-f1215ee19291"
   },
   "outputs": [
    {
     "name": "stdout",
     "output_type": "stream",
     "text": [
      "tensor([-0.5190, -2.0658,  0.3427])\n",
      "tensor([[-0.6351, -1.5383,  1.4964],\n",
      "        [ 0.2821,  0.2843,  0.3729]])\n"
     ]
    },
    {
     "ename": "ZeroDivisionError",
     "evalue": "ignored",
     "output_type": "error",
     "traceback": [
      "\u001b[0;31m---------------------------------------------------------------------------\u001b[0m",
      "\u001b[0;31mZeroDivisionError\u001b[0m                         Traceback (most recent call last)",
      "\u001b[0;32m<ipython-input-38-5612d35d372b>\u001b[0m in \u001b[0;36m<module>\u001b[0;34m()\u001b[0m\n\u001b[1;32m      4\u001b[0m \u001b[0mb\u001b[0m\u001b[0;34m=\u001b[0m\u001b[0mtorch\u001b[0m\u001b[0;34m.\u001b[0m\u001b[0mrandn\u001b[0m\u001b[0;34m(\u001b[0m\u001b[0;36m2\u001b[0m\u001b[0;34m,\u001b[0m\u001b[0;36m3\u001b[0m\u001b[0;34m)\u001b[0m\u001b[0;34m\u001b[0m\u001b[0;34m\u001b[0m\u001b[0m\n\u001b[1;32m      5\u001b[0m \u001b[0mprint\u001b[0m\u001b[0;34m(\u001b[0m\u001b[0mb\u001b[0m\u001b[0;34m)\u001b[0m\u001b[0;34m\u001b[0m\u001b[0;34m\u001b[0m\u001b[0m\n\u001b[0;32m----> 6\u001b[0;31m \u001b[0mfinal\u001b[0m\u001b[0;34m=\u001b[0m\u001b[0mtorch\u001b[0m\u001b[0;34m.\u001b[0m\u001b[0madd\u001b[0m\u001b[0;34m(\u001b[0m\u001b[0ma\u001b[0m\u001b[0;34m,\u001b[0m\u001b[0;36m1\u001b[0m\u001b[0;34m/\u001b[0m\u001b[0;36m0\u001b[0m\u001b[0;34m,\u001b[0m\u001b[0malpha\u001b[0m\u001b[0;34m=\u001b[0m\u001b[0;36m10\u001b[0m\u001b[0;34m)\u001b[0m\u001b[0;34m\u001b[0m\u001b[0;34m\u001b[0m\u001b[0m\n\u001b[0m\u001b[1;32m      7\u001b[0m \u001b[0mprint\u001b[0m\u001b[0;34m(\u001b[0m\u001b[0mfinal\u001b[0m\u001b[0;34m)\u001b[0m\u001b[0;34m\u001b[0m\u001b[0;34m\u001b[0m\u001b[0m\n",
      "\u001b[0;31mZeroDivisionError\u001b[0m: division by zero"
     ]
    }
   ],
   "source": [
    "# Example 3 - breaking (to illustrate when it breaks)\n",
    "a=torch.randn(3)\n",
    "print(a)\n",
    "b=torch.randn(2,3)\n",
    "print(b)\n",
    "final=torch.add(a,1/0,alpha=10)\n",
    "print(final)"
   ]
  },
  {
   "cell_type": "markdown",
   "metadata": {
    "id": "sIuGUc-jqijo"
   },
   "source": [
    "The error is in the torch.add() function where 2nd parameter is 1/0 which is infinity which can't be added to a function resulting in ZeroDivisionError.\n",
    "\n",
    "It can be written : final=torch.add(a,b,alpha=10)"
   ]
  },
  {
   "cell_type": "markdown",
   "metadata": {
    "id": "icb9O1kQqijo"
   },
   "source": [
    "The torch.add() function is used when some scalar value is needed to add into some tensor to maximise the value."
   ]
  },
  {
   "cell_type": "code",
   "execution_count": 39,
   "metadata": {
    "colab": {
     "base_uri": "https://localhost:8080/",
     "height": 103
    },
    "executionInfo": {
     "elapsed": 4651,
     "status": "ok",
     "timestamp": 1606197307808,
     "user": {
      "displayName": "sagar patel",
      "photoUrl": "",
      "userId": "07488108728169186006"
     },
     "user_tz": -330
    },
    "id": "7apWvjqaqijo",
    "outputId": "91836c54-6b7a-47b1-c16a-ba0695e6b97a"
   },
   "outputs": [
    {
     "name": "stdout",
     "output_type": "stream",
     "text": [
      "[jovian] Detected Colab notebook...\u001b[0m\n",
      "[jovian] Uploading colab notebook to Jovian...\u001b[0m\n",
      "[jovian] Capturing environment..\u001b[0m\n",
      "[jovian] Committed successfully! https://jovian.ai/sagarp3199/01-tensor-operations\u001b[0m\n"
     ]
    },
    {
     "data": {
      "application/vnd.google.colaboratory.intrinsic+json": {
       "type": "string"
      },
      "text/plain": [
       "'https://jovian.ai/sagarp3199/01-tensor-operations'"
      ]
     },
     "execution_count": 39,
     "metadata": {
      "tags": []
     },
     "output_type": "execute_result"
    }
   ],
   "source": [
    "jovian.commit(project='01-tensor-operations')"
   ]
  },
  {
   "cell_type": "markdown",
   "metadata": {
    "id": "0IYpekJ6qijp"
   },
   "source": [
    "## Function 3 - torch.ceil\n",
    "\n",
    "Returns a new tensor with the ceil of the elements of input which means the smallest integer greater than or equal to the each element."
   ]
  },
  {
   "cell_type": "code",
   "execution_count": 40,
   "metadata": {
    "colab": {
     "base_uri": "https://localhost:8080/"
    },
    "executionInfo": {
     "elapsed": 1175,
     "status": "ok",
     "timestamp": 1606197492601,
     "user": {
      "displayName": "sagar patel",
      "photoUrl": "",
      "userId": "07488108728169186006"
     },
     "user_tz": -330
    },
    "id": "ysW9v4HUqijp",
    "outputId": "0c4bb149-669a-4b2d-8906-887fb62d984e"
   },
   "outputs": [
    {
     "name": "stdout",
     "output_type": "stream",
     "text": [
      "tensor([ 0.5238, -0.2964,  0.3027,  1.3336, -0.8395])\n",
      "tensor([1., -0., 1., 2., -0.])\n"
     ]
    }
   ],
   "source": [
    "# Example 1 - working\n",
    "a=torch.randn(5)\n",
    "print(a)\n",
    "final=torch.ceil(a)\n",
    "print(final)"
   ]
  },
  {
   "cell_type": "markdown",
   "metadata": {
    "id": "RJKB6Elbqijq"
   },
   "source": [
    "torch.rand(n) generates the n random numbers and the result is stored in 'a' variable.\n",
    "\n",
    "torch.ceil(a) function returns the tensor of the integer values with integers greater than or equal to the value."
   ]
  },
  {
   "cell_type": "code",
   "execution_count": 41,
   "metadata": {
    "colab": {
     "base_uri": "https://localhost:8080/"
    },
    "executionInfo": {
     "elapsed": 1133,
     "status": "ok",
     "timestamp": 1606198343614,
     "user": {
      "displayName": "sagar patel",
      "photoUrl": "",
      "userId": "07488108728169186006"
     },
     "user_tz": -330
    },
    "id": "Vdgy6m1xqijq",
    "outputId": "06bb6196-4a07-4001-db51-d408d255a244"
   },
   "outputs": [
    {
     "name": "stdout",
     "output_type": "stream",
     "text": [
      "tensor([-3.2230, -1.2200,  4.3300,  5.3200])\n",
      "tensor([-3., -1.,  5.,  6.])\n"
     ]
    }
   ],
   "source": [
    "# Example 2 - working\n",
    "a=torch.tensor([-3.223,-1.22,4.33,5.32])\n",
    "print(a)\n",
    "final=torch.ceil(a)\n",
    "print(final)"
   ]
  },
  {
   "cell_type": "markdown",
   "metadata": {
    "id": "_m6udK3aqijq"
   },
   "source": [
    "torch.tensor() has four integers with any values which are stored in 'a' variable.\n",
    "torch.ceil(a) function returns the tensor of the integer values with integers greater than or equal to the value."
   ]
  },
  {
   "cell_type": "code",
   "execution_count": 43,
   "metadata": {
    "colab": {
     "base_uri": "https://localhost:8080/",
     "height": 231
    },
    "executionInfo": {
     "elapsed": 1086,
     "status": "error",
     "timestamp": 1606198553849,
     "user": {
      "displayName": "sagar patel",
      "photoUrl": "",
      "userId": "07488108728169186006"
     },
     "user_tz": -330
    },
    "id": "GKz1meyLqijr",
    "outputId": "3338bc5e-f5e9-46b8-c8c9-3f4f51157867"
   },
   "outputs": [
    {
     "ename": "TypeError",
     "evalue": "ignored",
     "output_type": "error",
     "traceback": [
      "\u001b[0;31m---------------------------------------------------------------------------\u001b[0m",
      "\u001b[0;31mTypeError\u001b[0m                                 Traceback (most recent call last)",
      "\u001b[0;32m<ipython-input-43-2fbae10705ce>\u001b[0m in \u001b[0;36m<module>\u001b[0;34m()\u001b[0m\n\u001b[1;32m      1\u001b[0m \u001b[0;31m# Example 3 - breaking (to illustrate when it breaks)\u001b[0m\u001b[0;34m\u001b[0m\u001b[0;34m\u001b[0m\u001b[0;34m\u001b[0m\u001b[0m\n\u001b[0;32m----> 2\u001b[0;31m \u001b[0ma\u001b[0m\u001b[0;34m=\u001b[0m\u001b[0mtorch\u001b[0m\u001b[0;34m.\u001b[0m\u001b[0mtensor\u001b[0m\u001b[0;34m(\u001b[0m\u001b[0;34m[\u001b[0m\u001b[0;36m3.4\u001b[0m\u001b[0;34m,\u001b[0m\u001b[0;34m-\u001b[0m\u001b[0;36m2\u001b[0m\u001b[0;34m,\u001b[0m\u001b[0;34m[\u001b[0m\u001b[0;36m2\u001b[0m\u001b[0;34m]\u001b[0m\u001b[0;34m,\u001b[0m\u001b[0;36m4.22\u001b[0m\u001b[0;34m]\u001b[0m\u001b[0;34m)\u001b[0m\u001b[0;34m\u001b[0m\u001b[0;34m\u001b[0m\u001b[0m\n\u001b[0m\u001b[1;32m      3\u001b[0m \u001b[0mprint\u001b[0m\u001b[0;34m(\u001b[0m\u001b[0ma\u001b[0m\u001b[0;34m)\u001b[0m\u001b[0;34m\u001b[0m\u001b[0;34m\u001b[0m\u001b[0m\n\u001b[1;32m      4\u001b[0m \u001b[0mfinal\u001b[0m\u001b[0;34m=\u001b[0m\u001b[0mtorch\u001b[0m\u001b[0;34m.\u001b[0m\u001b[0mceil\u001b[0m\u001b[0;34m(\u001b[0m\u001b[0ma\u001b[0m\u001b[0;34m)\u001b[0m\u001b[0;34m\u001b[0m\u001b[0;34m\u001b[0m\u001b[0m\n\u001b[1;32m      5\u001b[0m \u001b[0mprint\u001b[0m\u001b[0;34m(\u001b[0m\u001b[0mfinal\u001b[0m\u001b[0;34m)\u001b[0m\u001b[0;34m\u001b[0m\u001b[0;34m\u001b[0m\u001b[0m\n",
      "\u001b[0;31mTypeError\u001b[0m: must be real number, not list"
     ]
    }
   ],
   "source": [
    "# Example 3 - breaking (to illustrate when it breaks)\n",
    "a=torch.tensor([3.4,-2,[2],4.22])\n",
    "print(a)\n",
    "final=torch.ceil(a)\n",
    "print(final)"
   ]
  },
  {
   "cell_type": "markdown",
   "metadata": {
    "id": "rPto4V7-qijr"
   },
   "source": [
    "torch.tensor must contain the real number inside it. Here, the list is stored, so TypeError comes.\n",
    "It must be like: a=torch.tensor([3.4,-2,2,4.22])"
   ]
  },
  {
   "cell_type": "markdown",
   "metadata": {
    "id": "u1IckdOFqijr"
   },
   "source": [
    "torch.ceil() is used when the nearest maximum integer is needed to find from the tensor."
   ]
  },
  {
   "cell_type": "code",
   "execution_count": 44,
   "metadata": {
    "colab": {
     "base_uri": "https://localhost:8080/",
     "height": 103
    },
    "executionInfo": {
     "elapsed": 5136,
     "status": "ok",
     "timestamp": 1606198591120,
     "user": {
      "displayName": "sagar patel",
      "photoUrl": "",
      "userId": "07488108728169186006"
     },
     "user_tz": -330
    },
    "id": "pVrZvtvjqijr",
    "outputId": "e471a97d-cd58-4bcf-be73-294c4e104022"
   },
   "outputs": [
    {
     "name": "stdout",
     "output_type": "stream",
     "text": [
      "[jovian] Detected Colab notebook...\u001b[0m\n",
      "[jovian] Uploading colab notebook to Jovian...\u001b[0m\n",
      "[jovian] Capturing environment..\u001b[0m\n",
      "[jovian] Committed successfully! https://jovian.ai/sagarp3199/01-tensor-operations\u001b[0m\n"
     ]
    },
    {
     "data": {
      "application/vnd.google.colaboratory.intrinsic+json": {
       "type": "string"
      },
      "text/plain": [
       "'https://jovian.ai/sagarp3199/01-tensor-operations'"
      ]
     },
     "execution_count": 44,
     "metadata": {
      "tags": []
     },
     "output_type": "execute_result"
    }
   ],
   "source": [
    "jovian.commit(project='01-tensor-operations')"
   ]
  },
  {
   "cell_type": "markdown",
   "metadata": {
    "id": "UYcZzpgdqijs"
   },
   "source": [
    "## Function 4 - torch.floor\n",
    "\n",
    "Returns a new tensor with the floor of the elements of input, the largest integer less than or equal to each element."
   ]
  },
  {
   "cell_type": "code",
   "execution_count": 48,
   "metadata": {
    "colab": {
     "base_uri": "https://localhost:8080/"
    },
    "executionInfo": {
     "elapsed": 1060,
     "status": "ok",
     "timestamp": 1606198722752,
     "user": {
      "displayName": "sagar patel",
      "photoUrl": "",
      "userId": "07488108728169186006"
     },
     "user_tz": -330
    },
    "id": "N5gOmaCDqijs",
    "outputId": "125c76cc-41ad-4ede-e0ba-002916b68c8c"
   },
   "outputs": [
    {
     "name": "stdout",
     "output_type": "stream",
     "text": [
      "tensor([-0.5695,  1.1187,  1.7829,  0.7669, -0.2075, -1.7565,  0.4958, -0.3051])\n",
      "tensor([-1.,  1.,  1.,  0., -1., -2.,  0., -1.])\n"
     ]
    }
   ],
   "source": [
    "# Example 1 - working\n",
    "a=torch.randn(8)\n",
    "print(a)\n",
    "final=torch.floor(a)\n",
    "print(final)"
   ]
  },
  {
   "cell_type": "markdown",
   "metadata": {
    "id": "xjo4RLORqijs"
   },
   "source": [
    "torch.rand(n) generates the n random numbers and the result is stored in 'a' variable.\n",
    "\n",
    "torch.floor(a) function returns the tensor of the integer values with integers less than or equal to the value."
   ]
  },
  {
   "cell_type": "code",
   "execution_count": 50,
   "metadata": {
    "colab": {
     "base_uri": "https://localhost:8080/"
    },
    "executionInfo": {
     "elapsed": 1007,
     "status": "ok",
     "timestamp": 1606198832519,
     "user": {
      "displayName": "sagar patel",
      "photoUrl": "",
      "userId": "07488108728169186006"
     },
     "user_tz": -330
    },
    "id": "rTG0SHiRqijs",
    "outputId": "1643ef5c-eb9e-48fe-98d8-48ec0586315c"
   },
   "outputs": [
    {
     "name": "stdout",
     "output_type": "stream",
     "text": [
      "tensor([ 4.2332, -3.4000, 33.1190, -4.9900])\n",
      "tensor([ 4., -4., 33., -5.])\n"
     ]
    }
   ],
   "source": [
    "# Example 2 - working\n",
    "a=torch.tensor([4.2332,-3.4,33.119,-4.99])\n",
    "print(a)\n",
    "final=torch.floor(a)\n",
    "print(final)"
   ]
  },
  {
   "cell_type": "markdown",
   "metadata": {
    "id": "ZdciJskBqijs"
   },
   "source": [
    "torch.tensor() has four integers with any values which are stored in 'a' variable.\n",
    "torch.floor(a) function returns the tensor of the integer values with integers less than or equal to the value."
   ]
  },
  {
   "cell_type": "code",
   "execution_count": 51,
   "metadata": {
    "colab": {
     "base_uri": "https://localhost:8080/",
     "height": 231
    },
    "executionInfo": {
     "elapsed": 1245,
     "status": "error",
     "timestamp": 1606198859324,
     "user": {
      "displayName": "sagar patel",
      "photoUrl": "",
      "userId": "07488108728169186006"
     },
     "user_tz": -330
    },
    "id": "vYxtHmpHqijt",
    "outputId": "ff641b8e-6c66-47c8-b2d6-3688fb1d8618"
   },
   "outputs": [
    {
     "ename": "TypeError",
     "evalue": "ignored",
     "output_type": "error",
     "traceback": [
      "\u001b[0;31m---------------------------------------------------------------------------\u001b[0m",
      "\u001b[0;31mTypeError\u001b[0m                                 Traceback (most recent call last)",
      "\u001b[0;32m<ipython-input-51-ef433275d763>\u001b[0m in \u001b[0;36m<module>\u001b[0;34m()\u001b[0m\n\u001b[1;32m      1\u001b[0m \u001b[0;31m# Example 3 - breaking (to illustrate when it breaks)\u001b[0m\u001b[0;34m\u001b[0m\u001b[0;34m\u001b[0m\u001b[0;34m\u001b[0m\u001b[0m\n\u001b[0;32m----> 2\u001b[0;31m \u001b[0ma\u001b[0m\u001b[0;34m=\u001b[0m\u001b[0mtorch\u001b[0m\u001b[0;34m.\u001b[0m\u001b[0mtensor\u001b[0m\u001b[0;34m(\u001b[0m\u001b[0;34m[\u001b[0m\u001b[0;34m]\u001b[0m\u001b[0;34m,\u001b[0m\u001b[0;34m[\u001b[0m\u001b[0;36m3\u001b[0m\u001b[0;34m,\u001b[0m\u001b[0;36m4\u001b[0m\u001b[0;34m]\u001b[0m\u001b[0;34m,\u001b[0m\u001b[0;34m[\u001b[0m\u001b[0;36m33\u001b[0m\u001b[0;34m]\u001b[0m\u001b[0;34m)\u001b[0m\u001b[0;34m\u001b[0m\u001b[0;34m\u001b[0m\u001b[0m\n\u001b[0m\u001b[1;32m      3\u001b[0m \u001b[0mprint\u001b[0m\u001b[0;34m(\u001b[0m\u001b[0ma\u001b[0m\u001b[0;34m)\u001b[0m\u001b[0;34m\u001b[0m\u001b[0;34m\u001b[0m\u001b[0m\n\u001b[1;32m      4\u001b[0m \u001b[0mfinal\u001b[0m\u001b[0;34m=\u001b[0m\u001b[0mtorch\u001b[0m\u001b[0;34m.\u001b[0m\u001b[0mfloor\u001b[0m\u001b[0;34m(\u001b[0m\u001b[0ma\u001b[0m\u001b[0;34m)\u001b[0m\u001b[0;34m\u001b[0m\u001b[0;34m\u001b[0m\u001b[0m\n\u001b[1;32m      5\u001b[0m \u001b[0mprint\u001b[0m\u001b[0;34m(\u001b[0m\u001b[0mfinal\u001b[0m\u001b[0;34m)\u001b[0m\u001b[0;34m\u001b[0m\u001b[0;34m\u001b[0m\u001b[0m\n",
      "\u001b[0;31mTypeError\u001b[0m: tensor() takes 1 positional argument but 3 were given"
     ]
    }
   ],
   "source": [
    "# Example 3 - breaking (to illustrate when it breaks)\n",
    "a=torch.tensor([],[3,4],[33])\n",
    "print(a)\n",
    "final=torch.floor(a)\n",
    "print(final)"
   ]
  },
  {
   "cell_type": "markdown",
   "metadata": {
    "id": "qUI4zuroqijt"
   },
   "source": [
    "torch.tensor() must have similar size matrices for operations. Here, empty variable and values of different size are mentioned so there is error of Type.\n",
    "It must be like: a=torch.tensor([3,3,4,33])"
   ]
  },
  {
   "cell_type": "markdown",
   "metadata": {
    "id": "KybsdUZiqijt"
   },
   "source": [
    "torch.floor() is used when the smallest and nearest integer is needed in the tensor operations."
   ]
  },
  {
   "cell_type": "code",
   "execution_count": 52,
   "metadata": {
    "colab": {
     "base_uri": "https://localhost:8080/",
     "height": 103
    },
    "executionInfo": {
     "elapsed": 4989,
     "status": "ok",
     "timestamp": 1606198973133,
     "user": {
      "displayName": "sagar patel",
      "photoUrl": "",
      "userId": "07488108728169186006"
     },
     "user_tz": -330
    },
    "id": "_fz0MMP-qijt",
    "outputId": "3f236475-c54f-4d7a-dea5-31d6b304d3ae"
   },
   "outputs": [
    {
     "name": "stdout",
     "output_type": "stream",
     "text": [
      "[jovian] Detected Colab notebook...\u001b[0m\n",
      "[jovian] Uploading colab notebook to Jovian...\u001b[0m\n",
      "[jovian] Capturing environment..\u001b[0m\n",
      "[jovian] Committed successfully! https://jovian.ai/sagarp3199/01-tensor-operations\u001b[0m\n"
     ]
    },
    {
     "data": {
      "application/vnd.google.colaboratory.intrinsic+json": {
       "type": "string"
      },
      "text/plain": [
       "'https://jovian.ai/sagarp3199/01-tensor-operations'"
      ]
     },
     "execution_count": 52,
     "metadata": {
      "tags": []
     },
     "output_type": "execute_result"
    }
   ],
   "source": [
    "jovian.commit(project='01-tensor-operations')"
   ]
  },
  {
   "cell_type": "markdown",
   "metadata": {
    "id": "3-wiRc0Jqiju"
   },
   "source": [
    "## Function 5 - torch.mul\n",
    "\n",
    "Multiplies each element of the input input with the scalar other and returns a new resulting tensor."
   ]
  },
  {
   "cell_type": "code",
   "execution_count": 53,
   "metadata": {
    "colab": {
     "base_uri": "https://localhost:8080/"
    },
    "executionInfo": {
     "elapsed": 1167,
     "status": "ok",
     "timestamp": 1606199100723,
     "user": {
      "displayName": "sagar patel",
      "photoUrl": "",
      "userId": "07488108728169186006"
     },
     "user_tz": -330
    },
    "id": "AVKUv2_cqiju",
    "outputId": "90e61f88-219d-4952-958d-474acd2f04e7"
   },
   "outputs": [
    {
     "name": "stdout",
     "output_type": "stream",
     "text": [
      "tensor([ 1.2423, -0.1203, -0.1017, -1.9997, -0.1825])\n",
      "tensor([ 124.2269,  -12.0281,  -10.1679, -199.9730,  -18.2535])\n"
     ]
    }
   ],
   "source": [
    "# Example 1 - working\n",
    "a=torch.randn(5)\n",
    "print(a)\n",
    "final=torch.mul(a,100)\n",
    "print(final)"
   ]
  },
  {
   "cell_type": "markdown",
   "metadata": {
    "id": "f3JQ8hXqqiju"
   },
   "source": [
    "torch.randn() functions generates random numbers and stored in 'a' variable.\n",
    "torch.mul() receives 2 arguments with index 100 to be multiplied to each element resulting in final tensor variable."
   ]
  },
  {
   "cell_type": "code",
   "execution_count": 54,
   "metadata": {
    "colab": {
     "base_uri": "https://localhost:8080/"
    },
    "executionInfo": {
     "elapsed": 1512,
     "status": "ok",
     "timestamp": 1606199447074,
     "user": {
      "displayName": "sagar patel",
      "photoUrl": "",
      "userId": "07488108728169186006"
     },
     "user_tz": -330
    },
    "id": "ORqZVEY0qijv",
    "outputId": "f4cdfd22-815d-4b81-ed3d-566c52e57635"
   },
   "outputs": [
    {
     "name": "stdout",
     "output_type": "stream",
     "text": [
      "tensor([3.4400, 2.0000])\n",
      "tensor([0.3440, 0.2000])\n"
     ]
    }
   ],
   "source": [
    "# Example 2 - working\n",
    "a=torch.tensor([3.44,2])\n",
    "print(a)\n",
    "final=torch.mul(a,0.1)\n",
    "print(final)"
   ]
  },
  {
   "cell_type": "markdown",
   "metadata": {
    "id": "GCLd0MwQqijv"
   },
   "source": [
    "torch.mul() function multiplies 'a' value to 0.1 value resulting in final variable.\n"
   ]
  },
  {
   "cell_type": "code",
   "execution_count": 55,
   "metadata": {
    "colab": {
     "base_uri": "https://localhost:8080/",
     "height": 231
    },
    "executionInfo": {
     "elapsed": 852,
     "status": "error",
     "timestamp": 1606199512967,
     "user": {
      "displayName": "sagar patel",
      "photoUrl": "",
      "userId": "07488108728169186006"
     },
     "user_tz": -330
    },
    "id": "PV-_2E-Uqijv",
    "outputId": "b63cb8de-5aff-47ca-9f41-0b140ab4edef"
   },
   "outputs": [
    {
     "ename": "TypeError",
     "evalue": "ignored",
     "output_type": "error",
     "traceback": [
      "\u001b[0;31m---------------------------------------------------------------------------\u001b[0m",
      "\u001b[0;31mTypeError\u001b[0m                                 Traceback (most recent call last)",
      "\u001b[0;32m<ipython-input-55-ebcb83a3bcdd>\u001b[0m in \u001b[0;36m<module>\u001b[0;34m()\u001b[0m\n\u001b[1;32m      1\u001b[0m \u001b[0;31m# Example 3 - breaking (to illustrate when it breaks)\u001b[0m\u001b[0;34m\u001b[0m\u001b[0;34m\u001b[0m\u001b[0;34m\u001b[0m\u001b[0m\n\u001b[0;32m----> 2\u001b[0;31m \u001b[0ma\u001b[0m\u001b[0;34m=\u001b[0m\u001b[0mtorch\u001b[0m\u001b[0;34m.\u001b[0m\u001b[0mtensor\u001b[0m\u001b[0;34m(\u001b[0m\u001b[0;34m[\u001b[0m\u001b[0;36m3.44\u001b[0m\u001b[0;34m,\u001b[0m\u001b[0;36m2\u001b[0m\u001b[0;34m]\u001b[0m\u001b[0;34m,\u001b[0m\u001b[0;34m[\u001b[0m\u001b[0;36m2\u001b[0m\u001b[0;34m]\u001b[0m\u001b[0;34m)\u001b[0m\u001b[0;34m\u001b[0m\u001b[0;34m\u001b[0m\u001b[0m\n\u001b[0m\u001b[1;32m      3\u001b[0m \u001b[0mprint\u001b[0m\u001b[0;34m(\u001b[0m\u001b[0ma\u001b[0m\u001b[0;34m)\u001b[0m\u001b[0;34m\u001b[0m\u001b[0;34m\u001b[0m\u001b[0m\n\u001b[1;32m      4\u001b[0m \u001b[0mfinal\u001b[0m\u001b[0;34m=\u001b[0m\u001b[0mtorch\u001b[0m\u001b[0;34m.\u001b[0m\u001b[0mmul\u001b[0m\u001b[0;34m(\u001b[0m\u001b[0ma\u001b[0m\u001b[0;34m,\u001b[0m\u001b[0;36m0.1\u001b[0m\u001b[0;34m)\u001b[0m\u001b[0;34m\u001b[0m\u001b[0;34m\u001b[0m\u001b[0m\n\u001b[1;32m      5\u001b[0m \u001b[0mprint\u001b[0m\u001b[0;34m(\u001b[0m\u001b[0mfinal\u001b[0m\u001b[0;34m)\u001b[0m\u001b[0;34m\u001b[0m\u001b[0;34m\u001b[0m\u001b[0m\n",
      "\u001b[0;31mTypeError\u001b[0m: tensor() takes 1 positional argument but 2 were given"
     ]
    }
   ],
   "source": [
    "# Example 3 - breaking (to illustrate when it breaks)\n",
    "a=torch.tensor([3.44,2],[2])\n",
    "print(a)\n",
    "final=torch.mul(a,0.1)\n",
    "print(final)"
   ]
  },
  {
   "cell_type": "markdown",
   "metadata": {
    "id": "uC9pih1hqijv"
   },
   "source": [
    "TypeError comes due to the unmatched size of matrix to be load in torch.tensor() function."
   ]
  },
  {
   "cell_type": "markdown",
   "metadata": {
    "id": "wgxXLWtzqijv"
   },
   "source": [
    "torch.mul() is used when scalar is needed to multiply and increase the value of tensor variables."
   ]
  },
  {
   "cell_type": "code",
   "execution_count": 56,
   "metadata": {
    "colab": {
     "base_uri": "https://localhost:8080/",
     "height": 103
    },
    "executionInfo": {
     "elapsed": 4534,
     "status": "ok",
     "timestamp": 1606199707704,
     "user": {
      "displayName": "sagar patel",
      "photoUrl": "",
      "userId": "07488108728169186006"
     },
     "user_tz": -330
    },
    "id": "ChUyEAIpqijv",
    "outputId": "a9858836-f5f7-456d-f777-59e8d14e30c8"
   },
   "outputs": [
    {
     "name": "stdout",
     "output_type": "stream",
     "text": [
      "[jovian] Detected Colab notebook...\u001b[0m\n",
      "[jovian] Uploading colab notebook to Jovian...\u001b[0m\n",
      "[jovian] Capturing environment..\u001b[0m\n",
      "[jovian] Committed successfully! https://jovian.ai/sagarp3199/01-tensor-operations\u001b[0m\n"
     ]
    },
    {
     "data": {
      "application/vnd.google.colaboratory.intrinsic+json": {
       "type": "string"
      },
      "text/plain": [
       "'https://jovian.ai/sagarp3199/01-tensor-operations'"
      ]
     },
     "execution_count": 56,
     "metadata": {
      "tags": []
     },
     "output_type": "execute_result"
    }
   ],
   "source": [
    "jovian.commit(project='01-tensor-operations')"
   ]
  },
  {
   "cell_type": "markdown",
   "metadata": {
    "id": "w_vwyXIBqijv"
   },
   "source": [
    "## Conclusion\n",
    "\n",
    "Covered five basic mathematical functions used in tensor library namely acos, add, ceil, floor and mul."
   ]
  },
  {
   "cell_type": "markdown",
   "metadata": {
    "id": "dNLK9JJSqijv"
   },
   "source": [
    "## Reference Links\n",
    "Provide links to your references and other interesting articles about tensors\n",
    "* Official documentation for tensor operations: https://pytorch.org/docs/stable/torch.html\n",
    "* ..."
   ]
  },
  {
   "cell_type": "code",
   "execution_count": 57,
   "metadata": {
    "colab": {
     "base_uri": "https://localhost:8080/",
     "height": 103
    },
    "executionInfo": {
     "elapsed": 4723,
     "status": "ok",
     "timestamp": 1606199765420,
     "user": {
      "displayName": "sagar patel",
      "photoUrl": "",
      "userId": "07488108728169186006"
     },
     "user_tz": -330
    },
    "id": "DGi6v722qijv",
    "outputId": "df22a26c-5b52-4245-c586-6809c83910da"
   },
   "outputs": [
    {
     "name": "stdout",
     "output_type": "stream",
     "text": [
      "[jovian] Detected Colab notebook...\u001b[0m\n",
      "[jovian] Uploading colab notebook to Jovian...\u001b[0m\n",
      "[jovian] Capturing environment..\u001b[0m\n",
      "[jovian] Committed successfully! https://jovian.ai/sagarp3199/01-tensor-operations\u001b[0m\n"
     ]
    },
    {
     "data": {
      "application/vnd.google.colaboratory.intrinsic+json": {
       "type": "string"
      },
      "text/plain": [
       "'https://jovian.ai/sagarp3199/01-tensor-operations'"
      ]
     },
     "execution_count": 57,
     "metadata": {
      "tags": []
     },
     "output_type": "execute_result"
    }
   ],
   "source": [
    "jovian.commit(project='01-tensor-operations')"
   ]
  },
  {
   "cell_type": "code",
   "execution_count": null,
   "metadata": {
    "id": "U8Uo5khwqijw"
   },
   "outputs": [],
   "source": []
  }
 ],
 "metadata": {
  "colab": {
   "collapsed_sections": [
    "XEWER-IhqijS",
    "3-wiRc0Jqiju",
    "w_vwyXIBqijv",
    "dNLK9JJSqijv"
   ],
   "name": "01-tensor-operations.ipynb",
   "provenance": []
  },
  "kernelspec": {
   "display_name": "Python 3",
   "language": "python",
   "name": "python3"
  },
  "language_info": {
   "codemirror_mode": {
    "name": "ipython",
    "version": 3
   },
   "file_extension": ".py",
   "mimetype": "text/x-python",
   "name": "python",
   "nbconvert_exporter": "python",
   "pygments_lexer": "ipython3",
   "version": "3.8.5"
  }
 },
 "nbformat": 4,
 "nbformat_minor": 1
}
